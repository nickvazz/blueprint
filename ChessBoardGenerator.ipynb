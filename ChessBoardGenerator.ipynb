{
 "cells": [
  {
   "cell_type": "code",
   "execution_count": 2,
   "metadata": {
    "colab": {
     "autoexec": {
      "startup": false,
      "wait_interval": 0
     }
    },
    "colab_type": "code",
    "collapsed": true,
    "id": "80SXYSJfZUx0"
   },
   "outputs": [],
   "source": [
    "from PIL import Image\n",
    "import matplotlib.pyplot as plt\n",
    "%matplotlib inline\n",
    "import pandas as pd\n",
    "import numpy as np\n",
    "from scipy.misc import imread\n",
    "import glob\n",
    "import copy"
   ]
  },
  {
   "cell_type": "code",
   "execution_count": 19,
   "metadata": {
    "colab": {
     "autoexec": {
      "startup": false,
      "wait_interval": 0
     }
    },
    "colab_type": "code",
    "id": "h0CveYhJZUx8"
   },
   "outputs": [],
   "source": [
    "from PIL import Image\n",
    "import requests\n",
    "from io import BytesIO\n",
    "\n",
    "response = requests.get(\n",
    "    'http://www.clker.com/cliparts/c/b/8/6/11949911991537719366chess_set_symbols_igor_k_01.svg.hi.png')\n",
    "\n",
    "# img = np.array(Image.open('chess_pieces.png'))[:,:,3]\n",
    "img = np.array(Image.open(BytesIO(response.content)))[:,:,3]\n"
   ]
  },
  {
   "cell_type": "code",
   "execution_count": 20,
   "metadata": {
    "colab": {
     "autoexec": {
      "startup": false,
      "wait_interval": 0
     }
    },
    "colab_type": "code",
    "collapsed": true,
    "id": "naq6b5n0ZUyM"
   },
   "outputs": [],
   "source": [
    "chess_vector = img"
   ]
  },
  {
   "cell_type": "code",
   "execution_count": 21,
   "metadata": {
    "colab": {
     "autoexec": {
      "startup": false,
      "wait_interval": 0
     },
     "base_uri": "https://localhost:8080/",
     "height": 137,
     "output_extras": [
      {
       "item_id": 1
      }
     ]
    },
    "colab_type": "code",
    "executionInfo": {
     "elapsed": 1325,
     "status": "ok",
     "timestamp": 1513929326941,
     "user": {
      "displayName": "Andy Cai",
      "photoUrl": "https://lh3.googleusercontent.com/a/default-user=s128",
      "userId": "116810218921655439732"
     },
     "user_tz": 480
    },
    "id": "2O3w6iIXZUyV",
    "outputId": "68a124b6-5841-49d0-9b1e-d6501c702d55"
   },
   "outputs": [
    {
     "data": {
      "image/png": "[encoded data removed]",
      "text/plain": [
       "<matplotlib.figure.Figure at 0x10ce0af90>"
      ]
     },
     "metadata": {},
     "output_type": "display_data"
    }
   ],
   "source": [
    "plt.imshow(img)\n",
    "# plt.savefig('12-12-17')\n",
    "plt.show()"
   ]
  },
  {
   "cell_type": "code",
   "execution_count": 22,
   "metadata": {
    "colab": {
     "autoexec": {
      "startup": false,
      "wait_interval": 0
     },
     "base_uri": "https://localhost:8080/",
     "height": 34,
     "output_extras": [
      {
       "item_id": 1
      }
     ]
    },
    "colab_type": "code",
    "executionInfo": {
     "elapsed": 1575,
     "status": "ok",
     "timestamp": 1513929329627,
     "user": {
      "displayName": "Andy Cai",
      "photoUrl": "https://lh3.googleusercontent.com/a/default-user=s128",
      "userId": "116810218921655439732"
     },
     "user_tz": 480
    },
    "id": "NYNtUQYfZUyg",
    "outputId": "d2cc48f7-7f76-4db4-a753-d6791d9b9455"
   },
   "outputs": [
    {
     "data": {
      "text/plain": [
       "(153, 600)"
      ]
     },
     "execution_count": 22,
     "metadata": {},
     "output_type": "execute_result"
    }
   ],
   "source": [
    "chess_vector.shape"
   ]
  },
  {
   "cell_type": "code",
   "execution_count": 23,
   "metadata": {
    "colab": {
     "autoexec": {
      "startup": false,
      "wait_interval": 0
     },
     "base_uri": "https://localhost:8080/",
     "height": 101,
     "output_extras": [
      {
       "item_id": 1
      },
      {
       "item_id": 2
      }
     ]
    },
    "colab_type": "code",
    "executionInfo": {
     "elapsed": 1260,
     "status": "ok",
     "timestamp": 1513929331911,
     "user": {
      "displayName": "Andy Cai",
      "photoUrl": "https://lh3.googleusercontent.com/a/default-user=s128",
      "userId": "116810218921655439732"
     },
     "user_tz": 480
    },
    "id": "_8U_nHLSZUyx",
    "outputId": "9d3e5d4d-8093-43c0-f293-ffdc18533a23"
   },
   "outputs": [
    {
     "data": {
      "text/plain": [
       "<matplotlib.image.AxesImage at 0x10d29f710>"
      ]
     },
     "execution_count": 23,
     "metadata": {},
     "output_type": "execute_result"
    },
    {
     "data": {
      "image/png": "[encoded data removed]",
      "text/plain": [
       "<matplotlib.figure.Figure at 0x10d22e590>"
      ]
     },
     "metadata": {},
     "output_type": "display_data"
    }
   ],
   "source": [
    "black = chess_vector[:58,:]\n",
    "plt.imshow(black)"
   ]
  },
  {
   "cell_type": "code",
   "execution_count": 24,
   "metadata": {
    "colab": {
     "autoexec": {
      "startup": false,
      "wait_interval": 0
     },
     "base_uri": "https://localhost:8080/",
     "height": 101,
     "output_extras": [
      {
       "item_id": 1
      },
      {
       "item_id": 2
      }
     ]
    },
    "colab_type": "code",
    "executionInfo": {
     "elapsed": 1528,
     "status": "ok",
     "timestamp": 1513929335043,
     "user": {
      "displayName": "Andy Cai",
      "photoUrl": "https://lh3.googleusercontent.com/a/default-user=s128",
      "userId": "116810218921655439732"
     },
     "user_tz": 480
    },
    "id": "H94X3bWtZUzB",
    "outputId": "25e4e956-0bb5-4f57-a153-fcfb12cd1dd6"
   },
   "outputs": [
    {
     "data": {
      "text/plain": [
       "<matplotlib.image.AxesImage at 0x10d303d90>"
      ]
     },
     "execution_count": 24,
     "metadata": {},
     "output_type": "execute_result"
    },
    {
     "data": {
      "image/png": "[encoded data removed]",
      "text/plain": [
       "<matplotlib.figure.Figure at 0x10d272c50>"
      ]
     },
     "metadata": {},
     "output_type": "display_data"
    }
   ],
   "source": [
    "white = chess_vector[-58:,:]\n",
    "side_len = len(white)\n",
    "plt.imshow(white)"
   ]
  },
  {
   "cell_type": "code",
   "execution_count": 25,
   "metadata": {
    "colab": {
     "autoexec": {
      "startup": false,
      "wait_interval": 0
     },
     "base_uri": "https://localhost:8080/",
     "height": 288,
     "output_extras": [
      {
       "item_id": 1
      }
     ]
    },
    "colab_type": "code",
    "executionInfo": {
     "elapsed": 1913,
     "status": "ok",
     "timestamp": 1513929338062,
     "user": {
      "displayName": "Andy Cai",
      "photoUrl": "https://lh3.googleusercontent.com/a/default-user=s128",
      "userId": "116810218921655439732"
     },
     "user_tz": 480
    },
    "id": "0IFw7h6RZUzS",
    "outputId": "c630dcdb-4e8d-40f7-90d7-95b6051f90d1"
   },
   "outputs": [
    {
     "data": {
      "image/png": "[encoded data removed]",
      "text/plain": [
       "<matplotlib.figure.Figure at 0x10d34c1d0>"
      ]
     },
     "metadata": {},
     "output_type": "display_data"
    }
   ],
   "source": [
    "white_pieces = ['king_w','queen_w','rook_w','bishop_w','knight_w','pawn_w'] #key for white chess pieces dictionary\n",
    "black_pieces = ['king_b','queen_b','rook_b','bishop_b','knight_b','pawn_b'] #key for black chess pieces dictionary\n",
    "\n",
    "w = [white[:,n*100:(n+1)*100] for n in range(6)] #rough cropping for white chess pieces\n",
    "b = [black[:,n*100:(n+1)*100] for n in range(6)] #rough cropping for black chess pieces\n",
    "\n",
    "w_new = [] #editted cropping\n",
    "b_new = [] #editted cropping\n",
    "\n",
    "for i,j in zip(range(0,60,10), range(len(w)+1)): #fix pawn\n",
    "    w_new.append(w[j][:,i:i+side_len])\n",
    "    b_new.append(b[j][:,i:i+side_len])\n",
    "    \n",
    "w_new[0] = np.roll(w_new[0], 2)\n",
    "w_new[1] = np.roll(w_new[1], 1)\n",
    "w_new[-3] = np.roll(w_new[-3], -1)\n",
    "w_new[-2] = np.roll(w_new[-2], -1)\n",
    "w_new[-1] = np.roll(w_new[-1], -6)\n",
    "\n",
    "b_new[0] = np.roll(b_new[0], 3)\n",
    "b_new[1] = np.roll(b_new[1], 2)\n",
    "b_new[-3] = np.roll(b_new[-3], 0)\n",
    "b_new[-2] = np.roll(b_new[-2], -1)\n",
    "b_new[-1] = np.roll(b_new[-1], -5)\n",
    "\n",
    "blank_space = np.full((58, 58), 255, dtype=int) #fixed pawn\n",
    "blank_space[0:58, 4:54] = w_new[5]\n",
    "w_new[5] = blank_space\n",
    "blank_space = np.full((58, 58), 255, dtype=int) #fixed pawn\n",
    "blank_space[0:58, 4:54] = b_new[5]\n",
    "b_new[5] = blank_space\n",
    "\n",
    "fig, ax = plt.subplots(2,6,figsize=(16,4))\n",
    "for idx, im in enumerate(w_new):\n",
    "    ax[0,idx].imshow(im)\n",
    "    ax[0,idx].axis('off')\n",
    "    \n",
    "for idx, im in enumerate(b_new):\n",
    "    ax[1,idx].imshow(im)\n",
    "    ax[1,idx].axis('off')"
   ]
  },
  {
   "cell_type": "code",
   "execution_count": 26,
   "metadata": {
    "colab": {
     "autoexec": {
      "startup": false,
      "wait_interval": 0
     },
     "base_uri": "https://localhost:8080/",
     "height": 267,
     "output_extras": [
      {
       "item_id": 1
      }
     ]
    },
    "colab_type": "code",
    "executionInfo": {
     "elapsed": 1583,
     "status": "ok",
     "timestamp": 1513929341084,
     "user": {
      "displayName": "Andy Cai",
      "photoUrl": "https://lh3.googleusercontent.com/a/default-user=s128",
      "userId": "116810218921655439732"
     },
     "user_tz": 480
    },
    "id": "HF8K-m6tZUzd",
    "outputId": "620b854c-2096-4a6b-e0e5-a41c135a652d"
   },
   "outputs": [],
   "source": [
    "white_dict = dict(zip(white_pieces, w_new))\n",
    "black_dict = dict(zip(black_pieces, b_new))\n",
    "plt.show()"
   ]
  },
  {
   "cell_type": "code",
   "execution_count": 27,
   "metadata": {
    "colab": {
     "autoexec": {
      "startup": false,
      "wait_interval": 0
     },
     "base_uri": "https://localhost:8080/",
     "height": 265,
     "output_extras": [
      {
       "item_id": 1
      }
     ]
    },
    "colab_type": "code",
    "executionInfo": {
     "elapsed": 962,
     "status": "ok",
     "timestamp": 1513929737888,
     "user": {
      "displayName": "Andy Cai",
      "photoUrl": "https://lh3.googleusercontent.com/a/default-user=s128",
      "userId": "116810218921655439732"
     },
     "user_tz": 480
    },
    "id": "A9DFG31wZUzk",
    "outputId": "63656cdc-b30f-40a8-fe43-4c0355ecf6ef"
   },
   "outputs": [
    {
     "data": {
      "image/png": "[encoded data removed]",
      "text/plain": [
       "<matplotlib.figure.Figure at 0x10d2e04d0>"
      ]
     },
     "metadata": {},
     "output_type": "display_data"
    }
   ],
   "source": [
    "def init_board():\n",
    "    block_w = np.zeros((60*60,), dtype=np.int).reshape(60,60)\n",
    "    block_b = np.ones((60*60,), dtype=np.int).reshape(60,60)\n",
    "\n",
    "    row1 = np.hstack([block_w,block_b])\n",
    "    row1 = np.hstack([row1,row1])\n",
    "    row1 = np.hstack([row1,row1])\n",
    "    row2 = np.roll(row1,60)\n",
    "\n",
    "    board = np.vstack([row1,row2])\n",
    "    board = np.vstack([board,board])\n",
    "    board = np.vstack([board,board])\n",
    "    return board\n",
    "\n",
    "board = init_board()\n",
    "plt.imshow(board)\n",
    "plt.xticks([(val*60)+30 for val in range(8)],list('abcdefgh'))\n",
    "plt.yticks([(val*60)+30 for val in range(8)][::-1],list('12345678'))\n",
    "plt.show()"
   ]
  },
  {
   "cell_type": "code",
   "execution_count": 28,
   "metadata": {
    "colab": {
     "autoexec": {
      "startup": false,
      "wait_interval": 0
     },
     "base_uri": "https://localhost:8080/",
     "height": 269,
     "output_extras": [
      {
       "item_id": 1
      }
     ]
    },
    "colab_type": "code",
    "executionInfo": {
     "elapsed": 987,
     "status": "ok",
     "timestamp": 1513930319615,
     "user": {
      "displayName": "Andy Cai",
      "photoUrl": "https://lh3.googleusercontent.com/a/default-user=s128",
      "userId": "116810218921655439732"
     },
     "user_tz": 480
    },
    "id": "kp71WiR4ZUz1",
    "outputId": "988f8f4b-2fd1-4ffe-90b6-88f301ac20b9"
   },
   "outputs": [
    {
     "data": {
      "image/png": "[encoded data removed]",
      "text/plain": [
       "<matplotlib.figure.Figure at 0x10d4d43d0>"
      ]
     },
     "metadata": {},
     "output_type": "display_data"
    }
   ],
   "source": [
    "def place_piece(row,col,piece_type,piece_color,board_in):\n",
    "    \n",
    "    if piece_color == 'w':\n",
    "        piece = copy.copy(white_dict[piece_type + '_' + piece_color])\n",
    "    elif piece_color == 'b':\n",
    "        piece = copy.copy(black_dict[piece_type + '_' + piece_color])\n",
    "        \n",
    "    for i in range(len(piece)): #convert rgb to binary\n",
    "        for j in range(len(piece[0])):\n",
    "            if (piece[i][j] == 255):\n",
    "                piece[i][j] = 1\n",
    "    \n",
    "    board_out = copy.copy(board_in)\n",
    "    \n",
    "#     plt.imshow(board_out); plt.show()\n",
    "\n",
    "#     board_out[row*60+1:(row+1)*60-1,col*60+1:(col+1)*60-1] = ~board_out[row*60+1:(row+1)*60-1,col*60+1:(col+1)*60-1] + ~piece \n",
    "#     board_out[row*60+1:(row+1)*60-1,col*60+1:(col+1)*60-1] += ~piece \n",
    "#     print (board_in[row*60+1:(row+1)*60-1,col*60+1:(col+1)*60-1].shape)\n",
    "    board_out[row*60+1:(row+1)*60-1,col*60+1:(col+1)*60-1] += piece\n",
    "    return board_out\n",
    "\n",
    "board2 = place_piece(0,0,'rook','b',board)\n",
    "board2 = place_piece(6,7,'pawn','b',board2)\n",
    "board2 = place_piece(3,4,'knight','w',board2)\n",
    "plt.imshow(board2)\n",
    "plt.show()\n",
    "# plt.savefig('test.jpg') save the figure"
   ]
  },
  {
   "cell_type": "code",
   "execution_count": 16,
   "metadata": {
    "colab": {
     "autoexec": {
      "startup": false,
      "wait_interval": 0
     }
    },
    "colab_type": "code",
    "collapsed": true,
    "id": "c0ZkUwxaZU0E"
   },
   "outputs": [],
   "source": [
    "class ChessBoard:\n",
    "    __block_w = np.zeros((60*60,), dtype=np.int).reshape(60,60)\n",
    "    __block_b = np.ones((60*60,), dtype=np.int).reshape(60,60)\n",
    "\n",
    "    __row1 = np.hstack([__block_w,__block_b])\n",
    "    __row1 = np.hstack([__row1,__row1])\n",
    "    __row1 = np.hstack([__row1,__row1])\n",
    "    __row2 = np.roll(__row1,60)\n",
    "\n",
    "    __board_new = np.vstack([__row1,__row2])\n",
    "    __board_new = np.vstack([__board_new,__board_new])\n",
    "    white_pieces = ['king_w','queen_w','rook_w','bishop_w','knight_w','pawn_w'] #key for white chess pieces dictionary\n",
    "    black_pieces = ['king_b','queen_b','rook_b','bishop_b','knight_b','pawn_b'] #key for black chess pieces dictionary\n",
    "    \n",
    "    \n",
    "    global STATIC_BOARD\n",
    "    STATIC_BOARD = np.vstack([__board_new,__board_new])\n",
    "    def __init__(self):\n",
    "        self.board = STATIC_BOARD\n",
    "    \n",
    "    def place_piece(self,row,col,piece_type,piece_color):\n",
    "        if piece_color == 'w':\n",
    "            piece = copy.copy(white_dict[piece_type + '_' + piece_color])\n",
    "        elif piece_color == 'b':\n",
    "            piece = copy.copy(black_dict[piece_type + '_' + piece_color])\n",
    "        #add piece to piece_maps\n",
    "        for i in range(len(piece)): #convert rgb to binary\n",
    "            for j in range(len(piece[0])):\n",
    "                if (piece[i][j] != 0):\n",
    "                    piece[i][j] = 1\n",
    "        return self.board\n",
    "    \n",
    "#     def piece_map(self, piece_type, piece_color):\n",
    "#         return a binary map of the piece on the board\n",
    "        \n",
    "    def clear_board(self):\n",
    "#         self.board = []\n",
    "        self.board = self.STATIC_BOARD\n",
    "        return self.board"
   ]
  },
  {
   "cell_type": "code",
   "execution_count": 17,
   "metadata": {
    "colab": {
     "autoexec": {
      "startup": false,
      "wait_interval": 0
     },
     "base_uri": "https://localhost:8080/",
     "height": 269,
     "output_extras": [
      {
       "item_id": 1
      }
     ]
    },
    "colab_type": "code",
    "executionInfo": {
     "elapsed": 1483,
     "status": "ok",
     "timestamp": 1513929354634,
     "user": {
      "displayName": "Andy Cai",
      "photoUrl": "https://lh3.googleusercontent.com/a/default-user=s128",
      "userId": "116810218921655439732"
     },
     "user_tz": 480
    },
    "id": "UhSqO6gDZU0U",
    "outputId": "dc139ca8-c811-4666-8dfd-5d4d2cbcbee1"
   },
   "outputs": [
    {
     "data": {
      "image/png": "[encoded data removed]",
      "text/plain": [
       "<matplotlib.figure.Figure at 0x10bc8f7d0>"
      ]
     },
     "metadata": {},
     "output_type": "display_data"
    }
   ],
   "source": [
    "c = ChessBoard()\n",
    "c.place_piece(3,7,'knight','w')\n",
    "plt.imshow(c.board); plt.show()"
   ]
  },
  {
   "cell_type": "code",
   "execution_count": 18,
   "metadata": {
    "colab": {
     "autoexec": {
      "startup": false,
      "wait_interval": 0
     },
     "base_uri": "https://localhost:8080/",
     "height": 285,
     "output_extras": [
      {
       "item_id": 1
      }
     ]
    },
    "colab_type": "code",
    "executionInfo": {
     "elapsed": 1237,
     "status": "error",
     "timestamp": 1513929357299,
     "user": {
      "displayName": "Andy Cai",
      "photoUrl": "https://lh3.googleusercontent.com/a/default-user=s128",
      "userId": "116810218921655439732"
     },
     "user_tz": 480
    },
    "id": "BFWF37IQZU0j",
    "outputId": "b7d1a47d-9896-458a-c58f-fe30f625fc3e"
   },
   "outputs": [
    {
     "ename": "AttributeError",
     "evalue": "ChessBoard instance has no attribute 'STATIC_BOARD'",
     "output_type": "error",
     "traceback": [
      "\u001b[0;31m---------------------------------------------------------------------------\u001b[0m",
      "\u001b[0;31mAttributeError\u001b[0m                            Traceback (most recent call last)",
      "\u001b[0;32m<ipython-input-18-7b213babde63>\u001b[0m in \u001b[0;36m<module>\u001b[0;34m()\u001b[0m\n\u001b[0;32m----> 1\u001b[0;31m \u001b[0mplt\u001b[0m\u001b[0;34m.\u001b[0m\u001b[0mimshow\u001b[0m\u001b[0;34m(\u001b[0m\u001b[0mc\u001b[0m\u001b[0;34m.\u001b[0m\u001b[0mclear_board\u001b[0m\u001b[0;34m(\u001b[0m\u001b[0;34m)\u001b[0m\u001b[0;34m)\u001b[0m\u001b[0;34m;\u001b[0m \u001b[0mplt\u001b[0m\u001b[0;34m.\u001b[0m\u001b[0mshow\u001b[0m\u001b[0;34m(\u001b[0m\u001b[0;34m)\u001b[0m\u001b[0;34m\u001b[0m\u001b[0m\n\u001b[0m",
      "\u001b[0;32m<ipython-input-16-7833ed531b2c>\u001b[0m in \u001b[0;36mclear_board\u001b[0;34m(self)\u001b[0m\n\u001b[1;32m     36\u001b[0m     \u001b[0;32mdef\u001b[0m \u001b[0mclear_board\u001b[0m\u001b[0;34m(\u001b[0m\u001b[0mself\u001b[0m\u001b[0;34m)\u001b[0m\u001b[0;34m:\u001b[0m\u001b[0;34m\u001b[0m\u001b[0m\n\u001b[1;32m     37\u001b[0m \u001b[0;31m#         self.board = []\u001b[0m\u001b[0;34m\u001b[0m\u001b[0;34m\u001b[0m\u001b[0m\n\u001b[0;32m---> 38\u001b[0;31m         \u001b[0mself\u001b[0m\u001b[0;34m.\u001b[0m\u001b[0mboard\u001b[0m \u001b[0;34m=\u001b[0m \u001b[0mself\u001b[0m\u001b[0;34m.\u001b[0m\u001b[0mSTATIC_BOARD\u001b[0m\u001b[0;34m\u001b[0m\u001b[0m\n\u001b[0m\u001b[1;32m     39\u001b[0m         \u001b[0;32mreturn\u001b[0m \u001b[0mself\u001b[0m\u001b[0;34m.\u001b[0m\u001b[0mboard\u001b[0m\u001b[0;34m\u001b[0m\u001b[0m\n",
      "\u001b[0;31mAttributeError\u001b[0m: ChessBoard instance has no attribute 'STATIC_BOARD'"
     ]
    }
   ],
   "source": [
    "plt.imshow(c.clear_board()); plt.show()"
   ]
  },
  {
   "cell_type": "code",
   "execution_count": 0,
   "metadata": {
    "colab": {
     "autoexec": {
      "startup": false,
      "wait_interval": 0
     }
    },
    "colab_type": "code",
    "collapsed": true,
    "id": "9FSPcgwKZU0t"
   },
   "outputs": [],
   "source": []
  },
  {
   "cell_type": "code",
   "execution_count": 0,
   "metadata": {
    "colab": {
     "autoexec": {
      "startup": false,
      "wait_interval": 0
     }
    },
    "colab_type": "code",
    "collapsed": true,
    "id": "f6PIZ_5iZU08"
   },
   "outputs": [],
   "source": []
  }
 ],
 "metadata": {
  "colab": {
   "collapsed_sections": [],
   "default_view": {},
   "name": "ChessBoardGenerator.ipynb",
   "provenance": [],
   "version": "0.3.2",
   "views": {}
  },
  "kernelspec": {
   "display_name": "Python 2",
   "language": "python",
   "name": "python2"
  },
  "language_info": {
   "codemirror_mode": {
    "name": "ipython",
    "version": 2
   },
   "file_extension": ".py",
   "mimetype": "text/x-python",
   "name": "python",
   "nbconvert_exporter": "python",
   "pygments_lexer": "ipython2",
   "version": "2.7.10"
  }
 },
 "nbformat": 4,
 "nbformat_minor": 1
}
